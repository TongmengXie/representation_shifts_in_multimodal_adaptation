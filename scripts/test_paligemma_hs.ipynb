{
 "cells": [
  {
   "cell_type": "markdown",
   "id": "7579cc94",
   "metadata": {},
   "source": [
    "## Test for direct pass to the full model"
   ]
  },
  {
   "cell_type": "code",
   "execution_count": 2,
   "id": "2464d1cc",
   "metadata": {},
   "outputs": [
    {
     "name": "stderr",
     "output_type": "stream",
     "text": [
      "/opt/conda/envs/py311/lib/python3.11/site-packages/tqdm/auto.py:21: TqdmWarning: IProgress not found. Please update jupyter and ipywidgets. See https://ipywidgets.readthedocs.io/en/stable/user_install.html\n",
      "  from .autonotebook import tqdm as notebook_tqdm\n",
      "Using a slow image processor as `use_fast` is unset and a slow processor was saved with this model. `use_fast=True` will be the default behavior in v4.52, even if the model was saved with a slow processor. This will result in minor differences in outputs. You'll still be able to use a slow processor with `use_fast=False`.\n",
      "Loading checkpoint shards: 100%|██████████| 2/2 [00:01<00:00,  1.49it/s]\n"
     ]
    },
    {
     "name": "stdout",
     "output_type": "stream",
     "text": [
      "<class 'transformers.models.paligemma.modeling_paligemma.PaliGemmaCausalLMOutputWithPast'>\n",
      "odict_keys(['logits', 'past_key_values', 'hidden_states', 'image_hidden_states'])\n",
      "['attentions', 'clear', 'copy', 'fromkeys', 'get', 'hidden_states', 'image_hidden_states', 'items', 'keys', 'logits', 'loss', 'move_to_end', 'past_key_values', 'pop', 'popitem', 'setdefault', 'to_tuple', 'update', 'values']\n"
     ]
    }
   ],
   "source": [
    "############################ Test for AutoModel ############################\n",
    "# test: what's inside the hidden_states of the whole model\n",
    "from transformers import AutoProcessor, AutoModel\n",
    "import torch\n",
    "from PIL import Image\n",
    "# proc = AutoProcessor.from_pretrained(model_name)\n",
    "\n",
    "# load model + processor\n",
    "# model_name = \"google/paligemma2-3b-pt-224\"\n",
    "# model = AutoModel.from_pretrained(\n",
    "#     model_name, device_map=\"auto\"\n",
    "# )\n",
    "############################ Test for AutoModel ############################\n",
    "\n",
    "############################ Test for PaliGemmaForConditionalGeneration ############################\n",
    "\n",
    "from transformers import AutoProcessor, PaliGemmaForConditionalGeneration\n",
    "\n",
    "device = \"cuda:0\"\n",
    "model_id = \"google/paligemma2-3b-mix-224\"  # or your specific version\n",
    "proc = AutoProcessor.from_pretrained(model_id)\n",
    "model = PaliGemmaForConditionalGeneration.from_pretrained(model_id).to(device)\n",
    "############################ Test for PaliGemmaForConditionalGeneration ############################\n",
    "\n",
    "# dummy input\n",
    "img = Image.new(\"RGB\", (224, 224), color=\"gray\")\n",
    "# pass to the full model\n",
    "enc = proc(images=img, text=\"<image>\", return_tensors=\"pt\").to(device)\n",
    "\n",
    "with torch.inference_mode():\n",
    "    out = model(**enc, output_hidden_states=True, return_dict=True)\n",
    "\n",
    "print(type(out))\n",
    "print(out.keys())          # if it's a ModelOutput, this shows named attributes\n",
    "print([k for k in dir(out) if not k.startswith(\"_\")])  # inspect methods/attrs\n"
   ]
  },
  {
   "cell_type": "code",
   "execution_count": 3,
   "id": "d1c5aad1",
   "metadata": {},
   "outputs": [
    {
     "data": {
      "text/plain": [
       "torch.Size([1, 258, 2304])"
      ]
     },
     "execution_count": 3,
     "metadata": {},
     "output_type": "execute_result"
    }
   ],
   "source": [
    "out_full = out\n",
    "out_full.hidden_states[0].shape"
   ]
  },
  {
   "cell_type": "code",
   "execution_count": 4,
   "id": "4f8cf802",
   "metadata": {},
   "outputs": [
    {
     "data": {
      "text/plain": [
       "torch.Size([256, 2304])"
      ]
     },
     "execution_count": 4,
     "metadata": {},
     "output_type": "execute_result"
    }
   ],
   "source": [
    "out_full.image_hidden_states[0].shape"
   ]
  },
  {
   "cell_type": "markdown",
   "id": "577f98e3",
   "metadata": {},
   "source": [
    "## pass to vision_tower -> proj_layer -> language_model (more VRAM demanding)"
   ]
  },
  {
   "cell_type": "code",
   "execution_count": 5,
   "id": "39e27b7c",
   "metadata": {},
   "outputs": [
    {
     "name": "stderr",
     "output_type": "stream",
     "text": [
      "Loading checkpoint shards: 100%|██████████| 2/2 [00:01<00:00,  1.53it/s]\n"
     ]
    },
    {
     "name": "stdout",
     "output_type": "stream",
     "text": [
      "vout.shape: torch.Size([1, 256, 1152])\n"
     ]
    }
   ],
   "source": [
    "############################ Test for AutoModel ############################\n",
    "\n",
    "from transformers import AutoProcessor, AutoModel\n",
    "import torch\n",
    "from PIL import Image\n",
    "\n",
    "# pass to the visual encoder and then text decoder\n",
    "\n",
    "# # load model + processor\n",
    "# model_name = \"google/paligemma2-3b-pt-224\"\n",
    "# proc = AutoProcessor.from_pretrained(model_name)\n",
    "# model = AutoModel.from_pretrained(\n",
    "#     model_name, device_map=\"auto\"\n",
    "# )\n",
    "############################ Test for AutoModel ############################\n",
    "\n",
    "\n",
    "############################ Test for PaliGemmaForConditionalGeneration ############################\n",
    "from transformers import AutoProcessor, PaliGemmaForConditionalGeneration\n",
    "\n",
    "device = \"cuda:0\"\n",
    "model_id = \"google/paligemma2-3b-mix-224\"  # or your specific version\n",
    "processor = AutoProcessor.from_pretrained(model_id)\n",
    "model = PaliGemmaForConditionalGeneration.from_pretrained(model_id).to(device)\n",
    "############################ Test for PaliGemmaForConditionalGeneration ############################\n",
    "\n",
    "# dummy input\n",
    "img = Image.new(\"RGB\", (224, 224), color=\"gray\")\n",
    "# pass to the full model\n",
    "enc = proc(images=img, text=\"<image>\", return_tensors=\"pt\").to(device)\n",
    "\n",
    "with torch.inference_mode():\n",
    "    out = model(**enc, output_hidden_states=True, return_dict=True)\n",
    "    \n",
    "    \n",
    "# dummy input\n",
    "# Pass to encoder, transformation and decoder\n",
    "img = Image.new(\"RGB\", (224, 224), color=\"gray\")\n",
    "enc = proc(images=img, text=\"<image>\", return_tensors=\"pt\") # images are passed to vision tower, texts to tokeniser\n",
    "# Here we use proc to wrap them\n",
    "# enc = proc(images=img, return_tensors=\"pt\")\n",
    "px = enc[\"pixel_values\"].to(device, non_blocking=True)\n",
    "vout = model.vision_tower(pixel_values=px, output_hidden_states=False, return_dict=False)[0]\n",
    "print(f\"vout.shape: {vout.shape}\")\n",
    "proj=model.multi_modal_projector(vout)\n",
    "\n",
    "tok_embeds = model.language_model.embed_tokens(enc[\"input_ids\"][...,256*1:].to(device, non_blocking=True))\n",
    "inputs_embeds = torch.cat([proj, tok_embeds], dim=1)\n",
    "lm_inputs = {\n",
    "        \"inputs_embeds\": inputs_embeds,             # vision embeddings\n",
    "        \"attention_mask\": enc[\"attention_mask\"],\n",
    "    }\n",
    "out = model.language_model(**lm_inputs, output_hidden_states=True, return_dict=True)\n",
    "hs_tuple = out.hidden_states"
   ]
  },
  {
   "cell_type": "code",
   "execution_count": 6,
   "id": "ac6500a5",
   "metadata": {},
   "outputs": [
    {
     "data": {
      "text/plain": [
       "torch.Size([1, 2, 2304])"
      ]
     },
     "execution_count": 6,
     "metadata": {},
     "output_type": "execute_result"
    }
   ],
   "source": [
    "tok_embeds.shape"
   ]
  },
  {
   "cell_type": "code",
   "execution_count": 7,
   "id": "3e1aa8be",
   "metadata": {},
   "outputs": [
    {
     "data": {
      "text/plain": [
       "torch.Size([1, 258, 2304])"
      ]
     },
     "execution_count": 7,
     "metadata": {},
     "output_type": "execute_result"
    }
   ],
   "source": [
    "inputs_embeds.shape"
   ]
  },
  {
   "cell_type": "code",
   "execution_count": 8,
   "id": "8b1d9a6a",
   "metadata": {},
   "outputs": [
    {
     "data": {
      "text/plain": [
       "torch.Size([1, 258, 2304])"
      ]
     },
     "execution_count": 8,
     "metadata": {},
     "output_type": "execute_result"
    }
   ],
   "source": [
    "hs_tuple[0].shape"
   ]
  },
  {
   "cell_type": "code",
   "execution_count": 17,
   "id": "def8b548",
   "metadata": {},
   "outputs": [
    {
     "name": "stdout",
     "output_type": "stream",
     "text": [
      "MSE: 307.7573\n"
     ]
    }
   ],
   "source": [
    "\n",
    "import torch.nn.functional as F\n",
    "\n",
    "def mse_similarity(tensor1, tensor2):\n",
    "    mse = F.mse_loss(tensor1, tensor2)\n",
    "    return mse.item()\n",
    "\n",
    "mse = mse_similarity(torch.cat(out_full.hidden_states, dim=0).cpu(), torch.cat(hs_tuple, dim=0).cpu())\n",
    "print(f\"MSE: {mse:.4f}\")  # Lower = more similar, 0 = identical"
   ]
  },
  {
   "cell_type": "markdown",
   "id": "aa1a2448",
   "metadata": {},
   "source": [
    "## The two modules (PaliGemmaForConditionalGeneration and AutoModel) can give the same dimension for final outputs"
   ]
  },
  {
   "cell_type": "code",
   "execution_count": 42,
   "id": "cd444eb6",
   "metadata": {},
   "outputs": [
    {
     "data": {
      "text/plain": [
       "(27, torch.Size([1, 256, 2304]))"
      ]
     },
     "execution_count": 42,
     "metadata": {},
     "output_type": "execute_result"
    }
   ],
   "source": [
    "len(hs_tuple),hs_tuple[0].shape"
   ]
  },
  {
   "cell_type": "code",
   "execution_count": 46,
   "id": "0b96a5fe",
   "metadata": {},
   "outputs": [
    {
     "data": {
      "text/plain": [
       "torch.Size([256, 1152])"
      ]
     },
     "execution_count": 46,
     "metadata": {},
     "output_type": "execute_result"
    }
   ],
   "source": [
    "# vout[0].shape, len(vout), len(vout[1]), vout[1][1].shape\n",
    "vout[0].shape"
   ]
  },
  {
   "cell_type": "code",
   "execution_count": 1,
   "id": "b14b12b7",
   "metadata": {},
   "outputs": [
    {
     "name": "stdout",
     "output_type": "stream",
     "text": [
      "VRAM allocated: 0.00 GB\n",
      "VRAM reserved: 0.00 GB\n"
     ]
    }
   ],
   "source": [
    "import torch\n",
    "import gc\n",
    "\n",
    "# Clear PyTorch cache\n",
    "torch.cuda.empty_cache()\n",
    "\n",
    "# Delete specific tensors if you have them\n",
    "# del your_tensor_variable\n",
    "\n",
    "# Force garbage collection\n",
    "gc.collect()\n",
    "\n",
    "# Check VRAM usage\n",
    "if torch.cuda.is_available():\n",
    "    print(f\"VRAM allocated: {torch.cuda.memory_allocated() / 1024**3:.2f} GB\")\n",
    "    print(f\"VRAM reserved: {torch.cuda.memory_reserved() / 1024**3:.2f} GB\")"
   ]
  },
  {
   "cell_type": "markdown",
   "id": "086029f7",
   "metadata": {},
   "source": [
    "## Vision twoer has 1152 hid_dim, language_model 2304"
   ]
  },
  {
   "cell_type": "code",
   "execution_count": 47,
   "id": "23f39b54",
   "metadata": {},
   "outputs": [
    {
     "data": {
      "text/plain": [
       "PaliGemmaMultiModalProjector(\n",
       "  (linear): Linear(in_features=1152, out_features=2304, bias=True)\n",
       ")"
      ]
     },
     "execution_count": 47,
     "metadata": {},
     "output_type": "execute_result"
    }
   ],
   "source": [
    "model.multi_modal_projector"
   ]
  },
  {
   "cell_type": "code",
   "execution_count": 49,
   "id": "eec41bf6",
   "metadata": {},
   "outputs": [
    {
     "data": {
      "text/plain": [
       "PaliGemmaForConditionalGeneration(\n",
       "  (model): PaliGemmaModel(\n",
       "    (vision_tower): SiglipVisionModel(\n",
       "      (vision_model): SiglipVisionTransformer(\n",
       "        (embeddings): SiglipVisionEmbeddings(\n",
       "          (patch_embedding): Conv2d(3, 1152, kernel_size=(14, 14), stride=(14, 14), padding=valid)\n",
       "          (position_embedding): Embedding(256, 1152)\n",
       "        )\n",
       "        (encoder): SiglipEncoder(\n",
       "          (layers): ModuleList(\n",
       "            (0-26): 27 x SiglipEncoderLayer(\n",
       "              (layer_norm1): LayerNorm((1152,), eps=1e-06, elementwise_affine=True)\n",
       "              (self_attn): SiglipAttention(\n",
       "                (k_proj): Linear(in_features=1152, out_features=1152, bias=True)\n",
       "                (v_proj): Linear(in_features=1152, out_features=1152, bias=True)\n",
       "                (q_proj): Linear(in_features=1152, out_features=1152, bias=True)\n",
       "                (out_proj): Linear(in_features=1152, out_features=1152, bias=True)\n",
       "              )\n",
       "              (layer_norm2): LayerNorm((1152,), eps=1e-06, elementwise_affine=True)\n",
       "              (mlp): SiglipMLP(\n",
       "                (activation_fn): PytorchGELUTanh()\n",
       "                (fc1): Linear(in_features=1152, out_features=4304, bias=True)\n",
       "                (fc2): Linear(in_features=4304, out_features=1152, bias=True)\n",
       "              )\n",
       "            )\n",
       "          )\n",
       "        )\n",
       "        (post_layernorm): LayerNorm((1152,), eps=1e-06, elementwise_affine=True)\n",
       "      )\n",
       "    )\n",
       "    (multi_modal_projector): PaliGemmaMultiModalProjector(\n",
       "      (linear): Linear(in_features=1152, out_features=2304, bias=True)\n",
       "    )\n",
       "    (language_model): Gemma2Model(\n",
       "      (embed_tokens): Embedding(257216, 2304, padding_idx=0)\n",
       "      (layers): ModuleList(\n",
       "        (0-25): 26 x Gemma2DecoderLayer(\n",
       "          (self_attn): Gemma2Attention(\n",
       "            (q_proj): Linear(in_features=2304, out_features=2048, bias=False)\n",
       "            (k_proj): Linear(in_features=2304, out_features=1024, bias=False)\n",
       "            (v_proj): Linear(in_features=2304, out_features=1024, bias=False)\n",
       "            (o_proj): Linear(in_features=2048, out_features=2304, bias=False)\n",
       "          )\n",
       "          (mlp): Gemma2MLP(\n",
       "            (gate_proj): Linear(in_features=2304, out_features=9216, bias=False)\n",
       "            (up_proj): Linear(in_features=2304, out_features=9216, bias=False)\n",
       "            (down_proj): Linear(in_features=9216, out_features=2304, bias=False)\n",
       "            (act_fn): PytorchGELUTanh()\n",
       "          )\n",
       "          (input_layernorm): Gemma2RMSNorm((2304,), eps=1e-06)\n",
       "          (post_attention_layernorm): Gemma2RMSNorm((2304,), eps=1e-06)\n",
       "          (pre_feedforward_layernorm): Gemma2RMSNorm((2304,), eps=1e-06)\n",
       "          (post_feedforward_layernorm): Gemma2RMSNorm((2304,), eps=1e-06)\n",
       "        )\n",
       "      )\n",
       "      (norm): Gemma2RMSNorm((2304,), eps=1e-06)\n",
       "      (rotary_emb): Gemma2RotaryEmbedding()\n",
       "    )\n",
       "  )\n",
       "  (lm_head): Linear(in_features=2304, out_features=257216, bias=False)\n",
       ")"
      ]
     },
     "execution_count": 49,
     "metadata": {},
     "output_type": "execute_result"
    }
   ],
   "source": [
    "model"
   ]
  },
  {
   "cell_type": "code",
   "execution_count": 50,
   "id": "332b4264",
   "metadata": {},
   "outputs": [
    {
     "ename": "AttributeError",
     "evalue": "'BaseModelOutputWithPast' object has no attribute 'image_hidden_states'",
     "output_type": "error",
     "traceback": [
      "\u001b[31m---------------------------------------------------------------------------\u001b[39m",
      "\u001b[31mAttributeError\u001b[39m                            Traceback (most recent call last)",
      "\u001b[36mCell\u001b[39m\u001b[36m \u001b[39m\u001b[32mIn[50]\u001b[39m\u001b[32m, line 1\u001b[39m\n\u001b[32m----> \u001b[39m\u001b[32m1\u001b[39m out.image_hidden_states\n",
      "\u001b[31mAttributeError\u001b[39m: 'BaseModelOutputWithPast' object has no attribute 'image_hidden_states'"
     ]
    }
   ],
   "source": [
    "out.image_hidden_states"
   ]
  },
  {
   "cell_type": "code",
   "execution_count": 13,
   "id": "1255fef3",
   "metadata": {},
   "outputs": [
    {
     "ename": "NameError",
     "evalue": "name 'out' is not defined",
     "output_type": "error",
     "traceback": [
      "\u001b[31m---------------------------------------------------------------------------\u001b[39m",
      "\u001b[31mNameError\u001b[39m                                 Traceback (most recent call last)",
      "\u001b[36mCell\u001b[39m\u001b[36m \u001b[39m\u001b[32mIn[13]\u001b[39m\u001b[32m, line 1\u001b[39m\n\u001b[32m----> \u001b[39m\u001b[32m1\u001b[39m out.hidden_states[\u001b[32m0\u001b[39m].shape, out.image_hidden_states.shape\n",
      "\u001b[31mNameError\u001b[39m: name 'out' is not defined"
     ]
    }
   ],
   "source": [
    "out.hidden_states[0].shape, out.image_hidden_states.shape"
   ]
  },
  {
   "cell_type": "code",
   "execution_count": null,
   "id": "5fa6d19b",
   "metadata": {},
   "outputs": [],
   "source": []
  }
 ],
 "metadata": {
  "kernelspec": {
   "display_name": "Python py311",
   "language": "python",
   "name": "py311"
  },
  "language_info": {
   "codemirror_mode": {
    "name": "ipython",
    "version": 3
   },
   "file_extension": ".py",
   "mimetype": "text/x-python",
   "name": "python",
   "nbconvert_exporter": "python",
   "pygments_lexer": "ipython3",
   "version": "3.11.13"
  }
 },
 "nbformat": 4,
 "nbformat_minor": 5
}
